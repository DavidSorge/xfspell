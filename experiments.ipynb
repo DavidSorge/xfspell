{
 "metadata": {
  "language_info": {
   "codemirror_mode": {
    "name": "ipython",
    "version": 3
   },
   "file_extension": ".py",
   "mimetype": "text/x-python",
   "name": "python",
   "nbconvert_exporter": "python",
   "pygments_lexer": "ipython3",
   "version": "3.9.1-final"
  },
  "orig_nbformat": 2,
  "kernelspec": {
   "name": "python3",
   "display_name": "Python 3",
   "language": "python"
  }
 },
 "nbformat": 4,
 "nbformat_minor": 2,
 "cells": [
  {
   "cell_type": "code",
   "execution_count": 1,
   "metadata": {},
   "outputs": [],
   "source": [
    "import re\n",
    "from textwrap import wrap\n",
    "from subprocess import Popen, PIPE\n",
    "import pexpect\n",
    "from timeit import timeit"
   ]
  },
  {
   "cell_type": "code",
   "execution_count": 2,
   "metadata": {},
   "outputs": [],
   "source": [
    "ALL_CHARS = set(\"0123456789abcdefghijklmnopqrstuvwxyzABCDEFGHIJKLMNOPQRSTUVWXYZ .,!?'-\")\n"
   ]
  },
  {
   "cell_type": "code",
   "execution_count": 5,
   "metadata": {},
   "outputs": [],
   "source": [
    "def split_long(text):\n",
    "    text = re.sub('- ','', text)\n",
    "    text = re.sub(' +', ' ', text).strip()\n",
    "    lines = wrap(text, 200, break_long_words=False)\n",
    "    return lines\n",
    "\n",
    "\n",
    "def tokenize_characters(text):\n",
    "    text = text.strip()\n",
    "    text = ''.join(ch if ch in ALL_CHARS else '#' for ch in text)\n",
    "    text = re.sub(' +', ' ', text).strip()\n",
    "    tokens = [ch if ch != ' ' else '▁' for ch in text]\n",
    "    return tokens\n",
    "\n",
    "\n",
    "def get_tokens(text):\n",
    "    tokens = tokenize_characters(text)[:1023]\n",
    "    return ' '.join(tokens)\n",
    "\n",
    "\n",
    "def get_fairseq_output(line):\n",
    "    command = ['/home/dsorge/anaconda3/envs/spellcheck/bin/fairseq-interactive',\n",
    "               'model7m/',\n",
    "               '--path', 'model7m/checkpoint_best.pt',\n",
    "               '--source-lang', 'fr',\n",
    "               '--target-lang', 'en',\n",
    "               '--beam', '10']\n",
    "    p = Popen(command, stdin=PIPE, stdout=PIPE, stderr=PIPE, text=True)\n",
    "    out = p.communicate(line)\n",
    "    outlines = out[0].split('\\n')\n",
    "    return outlines\n",
    "\n",
    "\n",
    "def format_output(lines):\n",
    "    prev_line_no = None\n",
    "    for line in lines:\n",
    "        match = re.match(r'^H-(\\d+)', line)\n",
    "        if not match:\n",
    "            continue\n",
    "        tokens = line.split('\\t')[2].split(' ')\n",
    "        text = ''.join(tokens)\n",
    "        line_no = int(match.group(1))\n",
    "        assert not prev_line_no or line_no == prev_line_no + 1\n",
    "        prev_line_no = line_no\n",
    "        text = text.replace('▁', ' ')\n",
    "        return text\n",
    "\n",
    "\n",
    "def spell_check(text):\n",
    "    lines = split_long(text)\n",
    "    corrected_lines = []\n",
    "    for line in lines:\n",
    "        line_toks = get_tokens(line)\n",
    "        corrected_toks = get_fairseq_output(line_toks)\n",
    "        out = format_output(corrected_toks)\n",
    "        corrected_lines.append(out)\n",
    "    return ' '.join(corrected_lines)\n",
    "\n",
    "def spell_check_alt(text):\n",
    "    lines = split_long(text)\n",
    "    corrected_lines = []\n",
    "\n",
    "    command = ['/home/dsorge/anaconda3/envs/spellcheck/bin/fairseq-interactive',\n",
    "               'model7m/',\n",
    "               '--path', 'model7m/checkpoint_best.pt',\n",
    "               '--source-lang', 'fr',\n",
    "               '--target-lang', 'en',\n",
    "               '--beam', '10']\n",
    "    command = ' '.join(command)\n",
    "\n",
    "    p = pexpect.spawn(command)\n",
    "    p.expect('.*return:')\n",
    "\n",
    "    for line in lines:\n",
    "        p.sendline(get_tokens(line))\n",
    "        p.expect('\\d\\r\\n')\n",
    "        out = p.before\n",
    "        out = out.decode().split('\\r\\n')\n",
    "        out = format_output(out)\n",
    "        corrected_lines.append(out)\n",
    "\n",
    "    p.close()\n",
    "\n",
    "    return ' '.join(corrected_lines)"
   ]
  },
  {
   "cell_type": "code",
   "execution_count": 6,
   "metadata": {},
   "outputs": [],
   "source": [
    "doc =  '6 rioters hurt in firing at Mahim                 By Our Staff Reporters                 BOMBAY October 3                 SIX persons were injured when the police opened fire in dif- ferent parts of Mahim late to- night in attempts to quell riotous stone-throwing mob                 1 here were reports oi in tne Fishermens Colony area and in the vicinity of Mahim police station as well as Kapad Bazaar later tonight According to the police around 1 1 pm three rounds were fired at Kapad Bazaar to disperse the mob whose scuffling left 25 people injured number of tear-gas shells were also burst sources said The enraged crowd then swarmed towards the Mahim police station and surrounded it The policemen inside were forced to barricade the doors against it The state reserve police immedi- ately rushed to the spot and sur- rounded the station Three platoons had earlier been stationed in the area According to details pieced together from various sources group of 15 lorries returning from an Id-e-Milad procession was stoned at Mahim junction and near mosque at around 94S pm Eye-witnesses said the stones thrown at the lorries appeared to                 have come from the nearby Fisher- mens Colony This apparently trig- gered retaliation from the lorries occupants and heavy exchange of stones and soda bottles ensued The trouble then spread to the adjoining areas and even to the vicinity of the Bada mosque at Ban- dra junction at around 1115 pm Swords were allegedly used in the attack eyewitnesses aver As many as 15 people with sword injuries had to be taken to Bhabha Hospital where two were admitted Late at night nearly 1000 people had gathered in the Mahim-Bandra area and top police officials were maintaining vigil Contingents of the state reserve police were rushed to the spot The commissioner of police Mr Ramamurthi at the scene of the disturbances said The situation is under control My men are on the job While the riots on the main road had been brought under control sporadic incidents of violence were reported from the Bandra by-lanes Of the 25 injured the majority were from Bandra and three were from Mahim Among them were four women All were reported to have sword injuries on the arms and legs According to unconfirmed reports Continued on page 3)'"
   ]
  },
  {
   "cell_type": "code",
   "execution_count": 8,
   "metadata": {},
   "outputs": [
    {
     "output_type": "error",
     "ename": "TIMEOUT",
     "evalue": "Timeout exceeded.\n<pexpect.pty_spawn.spawn object at 0x7f716896aa00>\ncommand: /home/dsorge/anaconda3/envs/spellcheck/bin/fairseq-interactive\nargs: ['/home/dsorge/anaconda3/envs/spellcheck/bin/fairseq-interactive', 'model7m/', '--path', 'model7m/checkpoint_best.pt', '--source-lang', 'fr', '--target-lang', 'en', '--beam', '10']\nbuffer (last 100 chars): b''\nbefore (last 100 chars): ''\nafter: <class 'pexpect.exceptions.TIMEOUT'>\nmatch: None\nmatch_index: None\nexitstatus: None\nflag_eof: False\npid: 3025\nchild_fd: 47\nclosed: False\ntimeout: 30\ndelimiter: <class 'pexpect.exceptions.EOF'>\nlogfile: None\nlogfile_read: None\nlogfile_send: None\nmaxread: 2000\nignorecase: False\nsearchwindowsize: None\ndelaybeforesend: 0.05\ndelayafterclose: 0.1\ndelayafterterminate: 0.1\nsearcher: searcher_re:\n    0: re.compile(b'.*return:')",
     "traceback": [
      "\u001b[0;31m---------------------------------------------------------------------------\u001b[0m",
      "\u001b[0;31mTIMEOUT\u001b[0m                                   Traceback (most recent call last)",
      "\u001b[0;32m<ipython-input-8-76e38f547c00>\u001b[0m in \u001b[0;36m<module>\u001b[0;34m\u001b[0m\n\u001b[0;32m----> 1\u001b[0;31m \u001b[0mspell_check_alt\u001b[0m\u001b[0;34m(\u001b[0m\u001b[0mdoc\u001b[0m\u001b[0;34m)\u001b[0m\u001b[0;34m\u001b[0m\u001b[0;34m\u001b[0m\u001b[0m\n\u001b[0m",
      "\u001b[0;32m<ipython-input-5-677cd217521e>\u001b[0m in \u001b[0;36mspell_check_alt\u001b[0;34m(text)\u001b[0m\n\u001b[1;32m     70\u001b[0m \u001b[0;34m\u001b[0m\u001b[0m\n\u001b[1;32m     71\u001b[0m     \u001b[0mp\u001b[0m \u001b[0;34m=\u001b[0m \u001b[0mpexpect\u001b[0m\u001b[0;34m.\u001b[0m\u001b[0mspawn\u001b[0m\u001b[0;34m(\u001b[0m\u001b[0mcommand\u001b[0m\u001b[0;34m)\u001b[0m\u001b[0;34m\u001b[0m\u001b[0;34m\u001b[0m\u001b[0m\n\u001b[0;32m---> 72\u001b[0;31m     \u001b[0mp\u001b[0m\u001b[0;34m.\u001b[0m\u001b[0mexpect\u001b[0m\u001b[0;34m(\u001b[0m\u001b[0;34m'.*return:'\u001b[0m\u001b[0;34m)\u001b[0m\u001b[0;34m\u001b[0m\u001b[0;34m\u001b[0m\u001b[0m\n\u001b[0m\u001b[1;32m     73\u001b[0m \u001b[0;34m\u001b[0m\u001b[0m\n\u001b[1;32m     74\u001b[0m     \u001b[0;32mfor\u001b[0m \u001b[0mline\u001b[0m \u001b[0;32min\u001b[0m \u001b[0mlines\u001b[0m\u001b[0;34m:\u001b[0m\u001b[0;34m\u001b[0m\u001b[0;34m\u001b[0m\u001b[0m\n",
      "\u001b[0;32m~/anaconda3/envs/spellcheck/lib/python3.9/site-packages/pexpect/spawnbase.py\u001b[0m in \u001b[0;36mexpect\u001b[0;34m(self, pattern, timeout, searchwindowsize, async_, **kw)\u001b[0m\n\u001b[1;32m    341\u001b[0m \u001b[0;34m\u001b[0m\u001b[0m\n\u001b[1;32m    342\u001b[0m         \u001b[0mcompiled_pattern_list\u001b[0m \u001b[0;34m=\u001b[0m \u001b[0mself\u001b[0m\u001b[0;34m.\u001b[0m\u001b[0mcompile_pattern_list\u001b[0m\u001b[0;34m(\u001b[0m\u001b[0mpattern\u001b[0m\u001b[0;34m)\u001b[0m\u001b[0;34m\u001b[0m\u001b[0;34m\u001b[0m\u001b[0m\n\u001b[0;32m--> 343\u001b[0;31m         return self.expect_list(compiled_pattern_list,\n\u001b[0m\u001b[1;32m    344\u001b[0m                 timeout, searchwindowsize, async_)\n\u001b[1;32m    345\u001b[0m \u001b[0;34m\u001b[0m\u001b[0m\n",
      "\u001b[0;32m~/anaconda3/envs/spellcheck/lib/python3.9/site-packages/pexpect/spawnbase.py\u001b[0m in \u001b[0;36mexpect_list\u001b[0;34m(self, pattern_list, timeout, searchwindowsize, async_, **kw)\u001b[0m\n\u001b[1;32m    370\u001b[0m             \u001b[0;32mreturn\u001b[0m \u001b[0mexpect_async\u001b[0m\u001b[0;34m(\u001b[0m\u001b[0mexp\u001b[0m\u001b[0;34m,\u001b[0m \u001b[0mtimeout\u001b[0m\u001b[0;34m)\u001b[0m\u001b[0;34m\u001b[0m\u001b[0;34m\u001b[0m\u001b[0m\n\u001b[1;32m    371\u001b[0m         \u001b[0;32melse\u001b[0m\u001b[0;34m:\u001b[0m\u001b[0;34m\u001b[0m\u001b[0;34m\u001b[0m\u001b[0m\n\u001b[0;32m--> 372\u001b[0;31m             \u001b[0;32mreturn\u001b[0m \u001b[0mexp\u001b[0m\u001b[0;34m.\u001b[0m\u001b[0mexpect_loop\u001b[0m\u001b[0;34m(\u001b[0m\u001b[0mtimeout\u001b[0m\u001b[0;34m)\u001b[0m\u001b[0;34m\u001b[0m\u001b[0;34m\u001b[0m\u001b[0m\n\u001b[0m\u001b[1;32m    373\u001b[0m \u001b[0;34m\u001b[0m\u001b[0m\n\u001b[1;32m    374\u001b[0m     def expect_exact(self, pattern_list, timeout=-1, searchwindowsize=-1,\n",
      "\u001b[0;32m~/anaconda3/envs/spellcheck/lib/python3.9/site-packages/pexpect/expect.py\u001b[0m in \u001b[0;36mexpect_loop\u001b[0;34m(self, timeout)\u001b[0m\n\u001b[1;32m    179\u001b[0m             \u001b[0;32mreturn\u001b[0m \u001b[0mself\u001b[0m\u001b[0;34m.\u001b[0m\u001b[0meof\u001b[0m\u001b[0;34m(\u001b[0m\u001b[0me\u001b[0m\u001b[0;34m)\u001b[0m\u001b[0;34m\u001b[0m\u001b[0;34m\u001b[0m\u001b[0m\n\u001b[1;32m    180\u001b[0m         \u001b[0;32mexcept\u001b[0m \u001b[0mTIMEOUT\u001b[0m \u001b[0;32mas\u001b[0m \u001b[0me\u001b[0m\u001b[0;34m:\u001b[0m\u001b[0;34m\u001b[0m\u001b[0;34m\u001b[0m\u001b[0m\n\u001b[0;32m--> 181\u001b[0;31m             \u001b[0;32mreturn\u001b[0m \u001b[0mself\u001b[0m\u001b[0;34m.\u001b[0m\u001b[0mtimeout\u001b[0m\u001b[0;34m(\u001b[0m\u001b[0me\u001b[0m\u001b[0;34m)\u001b[0m\u001b[0;34m\u001b[0m\u001b[0;34m\u001b[0m\u001b[0m\n\u001b[0m\u001b[1;32m    182\u001b[0m         \u001b[0;32mexcept\u001b[0m\u001b[0;34m:\u001b[0m\u001b[0;34m\u001b[0m\u001b[0;34m\u001b[0m\u001b[0m\n\u001b[1;32m    183\u001b[0m             \u001b[0mself\u001b[0m\u001b[0;34m.\u001b[0m\u001b[0merrored\u001b[0m\u001b[0;34m(\u001b[0m\u001b[0;34m)\u001b[0m\u001b[0;34m\u001b[0m\u001b[0;34m\u001b[0m\u001b[0m\n",
      "\u001b[0;32m~/anaconda3/envs/spellcheck/lib/python3.9/site-packages/pexpect/expect.py\u001b[0m in \u001b[0;36mtimeout\u001b[0;34m(self, err)\u001b[0m\n\u001b[1;32m    142\u001b[0m             \u001b[0mexc\u001b[0m \u001b[0;34m=\u001b[0m \u001b[0mTIMEOUT\u001b[0m\u001b[0;34m(\u001b[0m\u001b[0mmsg\u001b[0m\u001b[0;34m)\u001b[0m\u001b[0;34m\u001b[0m\u001b[0;34m\u001b[0m\u001b[0m\n\u001b[1;32m    143\u001b[0m             \u001b[0mexc\u001b[0m\u001b[0;34m.\u001b[0m\u001b[0m__cause__\u001b[0m \u001b[0;34m=\u001b[0m \u001b[0;32mNone\u001b[0m    \u001b[0;31m# in Python 3.x we can use \"raise exc from None\"\u001b[0m\u001b[0;34m\u001b[0m\u001b[0;34m\u001b[0m\u001b[0m\n\u001b[0;32m--> 144\u001b[0;31m             \u001b[0;32mraise\u001b[0m \u001b[0mexc\u001b[0m\u001b[0;34m\u001b[0m\u001b[0;34m\u001b[0m\u001b[0m\n\u001b[0m\u001b[1;32m    145\u001b[0m \u001b[0;34m\u001b[0m\u001b[0m\n\u001b[1;32m    146\u001b[0m     \u001b[0;32mdef\u001b[0m \u001b[0merrored\u001b[0m\u001b[0;34m(\u001b[0m\u001b[0mself\u001b[0m\u001b[0;34m)\u001b[0m\u001b[0;34m:\u001b[0m\u001b[0;34m\u001b[0m\u001b[0;34m\u001b[0m\u001b[0m\n",
      "\u001b[0;31mTIMEOUT\u001b[0m: Timeout exceeded.\n<pexpect.pty_spawn.spawn object at 0x7f716896aa00>\ncommand: /home/dsorge/anaconda3/envs/spellcheck/bin/fairseq-interactive\nargs: ['/home/dsorge/anaconda3/envs/spellcheck/bin/fairseq-interactive', 'model7m/', '--path', 'model7m/checkpoint_best.pt', '--source-lang', 'fr', '--target-lang', 'en', '--beam', '10']\nbuffer (last 100 chars): b''\nbefore (last 100 chars): ''\nafter: <class 'pexpect.exceptions.TIMEOUT'>\nmatch: None\nmatch_index: None\nexitstatus: None\nflag_eof: False\npid: 3025\nchild_fd: 47\nclosed: False\ntimeout: 30\ndelimiter: <class 'pexpect.exceptions.EOF'>\nlogfile: None\nlogfile_read: None\nlogfile_send: None\nmaxread: 2000\nignorecase: False\nsearchwindowsize: None\ndelaybeforesend: 0.05\ndelayafterclose: 0.1\ndelayafterterminate: 0.1\nsearcher: searcher_re:\n    0: re.compile(b'.*return:')"
     ]
    }
   ],
   "source": [
    "spell_check_alt(doc)"
   ]
  },
  {
   "cell_type": "code",
   "execution_count": 72,
   "metadata": {},
   "outputs": [],
   "source": [
    "popen_version = timeit('spell_check(doc)', 'from __main__ import spell_check, doc', number=1)"
   ]
  },
  {
   "cell_type": "code",
   "execution_count": null,
   "metadata": {},
   "outputs": [],
   "source": [
    "print('With popen:', popen_version)\n",
    "print('With pexpect:', pexpect_version)"
   ]
  },
  {
   "cell_type": "code",
   "execution_count": 17,
   "metadata": {},
   "outputs": [],
   "source": [
    "lines = split_long(doc)\n",
    "corrected_lines = []\n",
    "\n",
    "command = ['/home/dsorge/anaconda3/envs/spellcheck/bin/fairseq-interactive',\n",
    "            'model7m/',\n",
    "            '--path', 'model7m/checkpoint_best.pt',\n",
    "            '--source-lang', 'fr',\n",
    "            '--target-lang', 'en',\n",
    "            '--beam', '10']\n",
    "command = ' '.join(command)\n",
    "\n",
    "p = pexpect.spawn(command, timeout=300)\n"
   ]
  },
  {
   "cell_type": "code",
   "execution_count": 14,
   "metadata": {},
   "outputs": [
    {
     "output_type": "execute_result",
     "data": {
      "text/plain": [
       "'/home/dsorge/anaconda3/envs/spellcheck/bin/fairseq-interactive model7m/ --path model7m/checkpoint_best.pt --source-lang fr --target-lang en --beam 10'"
      ]
     },
     "metadata": {},
     "execution_count": 14
    }
   ],
   "source": [
    "command"
   ]
  },
  {
   "cell_type": "code",
   "execution_count": 18,
   "metadata": {},
   "outputs": [],
   "source": [
    "p.expect('.*return:')"
   ]
  },
  {
   "cell_type": "code",
   "execution_count": 13,
   "metadata": {},
   "outputs": [
    {
     "output_type": "execute_result",
     "data": {
      "text/plain": [
       "pexpect.exceptions.TIMEOUT"
      ]
     },
     "metadata": {},
     "execution_count": 13
    }
   ],
   "source": [
    "p.after"
   ]
  },
  {
   "cell_type": "code",
   "execution_count": null,
   "metadata": {},
   "outputs": [],
   "source": [
    "for line in lines:\n",
    "    p.sendline(get_tokens(line))\n",
    "    p.expect('\\d\\r\\n')\n",
    "    out = p.before\n",
    "    out = out.decode().split('\\r\\n')\n",
    "    out = format_output(out)\n",
    "    corrected_lines.append(out)"
   ]
  }
 ]
}