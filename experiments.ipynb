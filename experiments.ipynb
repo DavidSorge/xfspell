{
 "metadata": {
  "language_info": {
   "codemirror_mode": {
    "name": "ipython",
    "version": 3
   },
   "file_extension": ".py",
   "mimetype": "text/x-python",
   "name": "python",
   "nbconvert_exporter": "python",
   "pygments_lexer": "ipython3",
   "version": "3.8.6-final"
  },
  "orig_nbformat": 2,
  "kernelspec": {
   "name": "python3",
   "display_name": "Python 3.8.6 64-bit",
   "metadata": {
    "interpreter": {
     "hash": "31f2aee4e71d21fbe5cf8b01ff0e069b9275f58929596ceb00d14d90e3e16cd6"
    }
   }
  }
 },
 "nbformat": 4,
 "nbformat_minor": 2,
 "cells": [
  {
   "cell_type": "code",
   "execution_count": 2,
   "metadata": {},
   "outputs": [],
   "source": [
    "import re\n",
    "from textwrap import wrap\n",
    "from subprocess import Popen, PIPE\n",
    "import pexpect\n",
    "from timeit import timeit"
   ]
  },
  {
   "cell_type": "code",
   "execution_count": 3,
   "metadata": {},
   "outputs": [],
   "source": [
    "ALL_CHARS = set(\"0123456789abcdefghijklmnopqrstuvwxyzABCDEFGHIJKLMNOPQRSTUVWXYZ .,!?'-\")\n"
   ]
  },
  {
   "cell_type": "code",
   "execution_count": 10,
   "metadata": {},
   "outputs": [],
   "source": [
    "def split_long(text):\n",
    "    text = re.sub('- ','', text)\n",
    "    text = re.sub(' +', ' ', text).strip()\n",
    "    lines = wrap(text, 200, break_long_words=False)\n",
    "    return lines\n",
    "\n",
    "\n",
    "def tokenize_characters(text):\n",
    "    text = text.strip()\n",
    "    text = ''.join(ch if ch in ALL_CHARS else '#' for ch in text)\n",
    "    text = re.sub(' +', ' ', text).strip()\n",
    "    tokens = [ch if ch != ' ' else '▁' for ch in text]\n",
    "    return tokens\n",
    "\n",
    "\n",
    "def get_tokens(text):\n",
    "    tokens = tokenize_characters(text)[:1023]\n",
    "    return ' '.join(tokens)\n",
    "\n",
    "\n",
    "def get_fairseq_output(line):\n",
    "    command = ['/usr/local/bin/fairseq-interactive',\n",
    "               'model7m/',\n",
    "               '--path', 'model7m/checkpoint_best.pt',\n",
    "               '--source-lang', 'fr',\n",
    "               '--target-lang', 'en',\n",
    "               '--beam', '10']\n",
    "    p = Popen(command, stdin=PIPE, stdout=PIPE, stderr=PIPE, text=True)\n",
    "    out = p.communicate(line)\n",
    "    outlines = out[0].split('\\n')\n",
    "    return outlines\n",
    "\n",
    "\n",
    "def format_output(lines):\n",
    "    prev_line_no = None\n",
    "    for line in lines:\n",
    "        match = re.match(r'^H-(\\d+)', line)\n",
    "        if not match:\n",
    "            continue\n",
    "        tokens = line.split('\\t')[2].split(' ')\n",
    "        text = ''.join(tokens)\n",
    "        line_no = int(match.group(1))\n",
    "        assert not prev_line_no or line_no == prev_line_no + 1\n",
    "        prev_line_no = line_no\n",
    "        text = text.replace('▁', ' ')\n",
    "        return text\n",
    "\n",
    "\n",
    "def spell_check(text):\n",
    "    lines = split_long(text)\n",
    "    corrected_lines = []\n",
    "    for line in lines:\n",
    "        line_toks = get_tokens(line)\n",
    "        corrected_toks = get_fairseq_output(line_toks)\n",
    "        out = format_output(corrected_toks)\n",
    "        corrected_lines.append(out)\n",
    "    return ' '.join(corrected_lines)\n",
    "\n",
    "def spell_check_alt(text):\n",
    "    lines = split_long(text)\n",
    "    corrected_lines = []\n",
    "\n",
    "    command = ['/usr/local/bin/fairseq-interactive',\n",
    "               'model7m/',\n",
    "               '--path', 'model7m/checkpoint_best.pt',\n",
    "               '--source-lang', 'fr',\n",
    "               '--target-lang', 'en',\n",
    "               '--beam', '10']\n",
    "    command = ' '.join(command)\n",
    "\n",
    "    p = pexpect.spawn(command, timeout=90)\n",
    "    p.expect('.*return:')\n",
    "\n",
    "    for line in lines:\n",
    "        p.sendline(get_tokens(line))\n",
    "        p.expect('\\d\\r\\n')\n",
    "        out = p.before\n",
    "        out = out.decode().split('\\r\\n')\n",
    "        out = format_output(out)\n",
    "        corrected_lines.append(out)\n",
    "\n",
    "    p.close()\n",
    "\n",
    "    return ' '.join(corrected_lines)"
   ]
  },
  {
   "cell_type": "code",
   "execution_count": 11,
   "metadata": {},
   "outputs": [],
   "source": [
    "doc =  '6 rioters hurt in firing at Mahim                 By Our Staff Reporters                 BOMBAY October 3                 SIX persons were injured when the police opened fire in dif- ferent parts of Mahim late to- night in attempts to quell riotous stone-throwing mob                 1 here were reports oi in tne Fishermens Colony area and in the vicinity of Mahim police station as well as Kapad Bazaar later tonight According to the police around 1 1 pm three rounds were fired at Kapad Bazaar to disperse the mob whose scuffling left 25 people injured number of tear-gas shells were also burst sources said The enraged crowd then swarmed towards the Mahim police station and surrounded it The policemen inside were forced to barricade the doors against it The state reserve police immedi- ately rushed to the spot and sur- rounded the station Three platoons had earlier been stationed in the area According to details pieced together from various sources group of 15 lorries returning from an Id-e-Milad procession was stoned at Mahim junction and near mosque at around 94S pm Eye-witnesses said the stones thrown at the lorries appeared to                 have come from the nearby Fisher- mens Colony This apparently trig- gered retaliation from the lorries occupants and heavy exchange of stones and soda bottles ensued The trouble then spread to the adjoining areas and even to the vicinity of the Bada mosque at Ban- dra junction at around 1115 pm Swords were allegedly used in the attack eyewitnesses aver As many as 15 people with sword injuries had to be taken to Bhabha Hospital where two were admitted Late at night nearly 1000 people had gathered in the Mahim-Bandra area and top police officials were maintaining vigil Contingents of the state reserve police were rushed to the spot The commissioner of police Mr Ramamurthi at the scene of the disturbances said The situation is under control My men are on the job While the riots on the main road had been brought under control sporadic incidents of violence were reported from the Bandra by-lanes Of the 25 injured the majority were from Bandra and three were from Mahim Among them were four women All were reported to have sword injuries on the arms and legs According to unconfirmed reports Continued on page 3)'"
   ]
  },
  {
   "cell_type": "code",
   "execution_count": 12,
   "metadata": {},
   "outputs": [
    {
     "output_type": "execute_result",
     "data": {
      "text/plain": [
       "'6 rioters hurt in firing at Mahim By Our Staff Reporters BOMBAY October 3 SIX persons were injured when the police opened fire in different parts of Mahim late tonight in attempts to quell rioters stone-throwing mob 1 here were reports of in the Fishermens Colony area and in the vicinity of Mahim police station as well as Kapad Bazaar later tonight According to the police around 1 1 pm three rounds were fired at Kapad Bazaar to disperse the mob whose scuffling left 25 people injured number of tear-gas shells were also burst sources said The enraged crowd then swarmed towards the Mahim. police station and surrounded it The policemen inside were forced to barricade the doors against it The state reserve police immediately rushed to the spot and surrounded the station Three platoons had earlier been stationed in the area According to details pieced together from various sources group of 15 lorries returning from an Id-e-Milad procession was stoned at Mahim junction and near mosque at around 940 pm Eye-witnesses said the stones thrown at the lorries appeared to have come from the nearby Fishermens Colony This apparently triggered retaliation from the lorries occupants and heavy exchange of stones and soda bottles ensued The trouble then spread to the adjoining areas and even to the vicinity of the Bada mosque at Bandra junction at around 1115 pm Swords were allegedly used in the attack eyewitnesses aver As many as 15 people with sword injuries had to be taken to Bhabha Hospital where two were admitted Late at night nearly 1000 people had gathered in the Mahim- Bandra area and top police officials were maintaining vigil Contingents of the state reserve police were rushed to the spot The commissioner of police Mr Ramamurthi at the scene of the disturbances. said The situation is under control My men are on the job While the riots on the main road had been brought under control sporadic incidents of violence were reported from the Bandra by-lanes Of the 25 injured the majority were from Bandra and three were from Mahim Among them were four women All were reported to have sword injuries on the arms and legs According to unconfirmed reports Continued on page 3#'"
      ]
     },
     "metadata": {},
     "execution_count": 12
    }
   ],
   "source": [
    "spell_check_alt(doc)"
   ]
  },
  {
   "cell_type": "code",
   "execution_count": 16,
   "metadata": {},
   "outputs": [
    {
     "output_type": "error",
     "ename": "KeyboardInterrupt",
     "evalue": "",
     "traceback": [
      "\u001b[0;31m---------------------------------------------------------------------------\u001b[0m",
      "\u001b[0;31mKeyboardInterrupt\u001b[0m                         Traceback (most recent call last)",
      "\u001b[0;32m<ipython-input-16-7a3df7195bb1>\u001b[0m in \u001b[0;36m<module>\u001b[0;34m\u001b[0m\n\u001b[0;32m----> 1\u001b[0;31m \u001b[0mspell_check\u001b[0m\u001b[0;34m(\u001b[0m\u001b[0mdoc\u001b[0m\u001b[0;34m)\u001b[0m\u001b[0;34m\u001b[0m\u001b[0;34m\u001b[0m\u001b[0m\n\u001b[0m",
      "\u001b[0;32m<ipython-input-10-9a6462c630f4>\u001b[0m in \u001b[0;36mspell_check\u001b[0;34m(text)\u001b[0m\n\u001b[1;32m     52\u001b[0m     \u001b[0;32mfor\u001b[0m \u001b[0mline\u001b[0m \u001b[0;32min\u001b[0m \u001b[0mlines\u001b[0m\u001b[0;34m:\u001b[0m\u001b[0;34m\u001b[0m\u001b[0;34m\u001b[0m\u001b[0m\n\u001b[1;32m     53\u001b[0m         \u001b[0mline_toks\u001b[0m \u001b[0;34m=\u001b[0m \u001b[0mget_tokens\u001b[0m\u001b[0;34m(\u001b[0m\u001b[0mline\u001b[0m\u001b[0;34m)\u001b[0m\u001b[0;34m\u001b[0m\u001b[0;34m\u001b[0m\u001b[0m\n\u001b[0;32m---> 54\u001b[0;31m         \u001b[0mcorrected_toks\u001b[0m \u001b[0;34m=\u001b[0m \u001b[0mget_fairseq_output\u001b[0m\u001b[0;34m(\u001b[0m\u001b[0mline_toks\u001b[0m\u001b[0;34m)\u001b[0m\u001b[0;34m\u001b[0m\u001b[0;34m\u001b[0m\u001b[0m\n\u001b[0m\u001b[1;32m     55\u001b[0m         \u001b[0mout\u001b[0m \u001b[0;34m=\u001b[0m \u001b[0mformat_output\u001b[0m\u001b[0;34m(\u001b[0m\u001b[0mcorrected_toks\u001b[0m\u001b[0;34m)\u001b[0m\u001b[0;34m\u001b[0m\u001b[0;34m\u001b[0m\u001b[0m\n\u001b[1;32m     56\u001b[0m         \u001b[0mcorrected_lines\u001b[0m\u001b[0;34m.\u001b[0m\u001b[0mappend\u001b[0m\u001b[0;34m(\u001b[0m\u001b[0mout\u001b[0m\u001b[0;34m)\u001b[0m\u001b[0;34m\u001b[0m\u001b[0;34m\u001b[0m\u001b[0m\n",
      "\u001b[0;32m<ipython-input-10-9a6462c630f4>\u001b[0m in \u001b[0;36mget_fairseq_output\u001b[0;34m(line)\u001b[0m\n\u001b[1;32m     27\u001b[0m                '--beam', '10']\n\u001b[1;32m     28\u001b[0m     \u001b[0mp\u001b[0m \u001b[0;34m=\u001b[0m \u001b[0mPopen\u001b[0m\u001b[0;34m(\u001b[0m\u001b[0mcommand\u001b[0m\u001b[0;34m,\u001b[0m \u001b[0mstdin\u001b[0m\u001b[0;34m=\u001b[0m\u001b[0mPIPE\u001b[0m\u001b[0;34m,\u001b[0m \u001b[0mstdout\u001b[0m\u001b[0;34m=\u001b[0m\u001b[0mPIPE\u001b[0m\u001b[0;34m,\u001b[0m \u001b[0mstderr\u001b[0m\u001b[0;34m=\u001b[0m\u001b[0mPIPE\u001b[0m\u001b[0;34m,\u001b[0m \u001b[0mtext\u001b[0m\u001b[0;34m=\u001b[0m\u001b[0;32mTrue\u001b[0m\u001b[0;34m)\u001b[0m\u001b[0;34m\u001b[0m\u001b[0;34m\u001b[0m\u001b[0m\n\u001b[0;32m---> 29\u001b[0;31m     \u001b[0mout\u001b[0m \u001b[0;34m=\u001b[0m \u001b[0mp\u001b[0m\u001b[0;34m.\u001b[0m\u001b[0mcommunicate\u001b[0m\u001b[0;34m(\u001b[0m\u001b[0mline\u001b[0m\u001b[0;34m)\u001b[0m\u001b[0;34m\u001b[0m\u001b[0;34m\u001b[0m\u001b[0m\n\u001b[0m\u001b[1;32m     30\u001b[0m     \u001b[0moutlines\u001b[0m \u001b[0;34m=\u001b[0m \u001b[0mout\u001b[0m\u001b[0;34m[\u001b[0m\u001b[0;36m0\u001b[0m\u001b[0;34m]\u001b[0m\u001b[0;34m.\u001b[0m\u001b[0msplit\u001b[0m\u001b[0;34m(\u001b[0m\u001b[0;34m'\\n'\u001b[0m\u001b[0;34m)\u001b[0m\u001b[0;34m\u001b[0m\u001b[0;34m\u001b[0m\u001b[0m\n\u001b[1;32m     31\u001b[0m     \u001b[0;32mreturn\u001b[0m \u001b[0moutlines\u001b[0m\u001b[0;34m\u001b[0m\u001b[0;34m\u001b[0m\u001b[0m\n",
      "\u001b[0;32m/usr/lib/python3.8/subprocess.py\u001b[0m in \u001b[0;36mcommunicate\u001b[0;34m(self, input, timeout)\u001b[0m\n\u001b[1;32m   1022\u001b[0m \u001b[0;34m\u001b[0m\u001b[0m\n\u001b[1;32m   1023\u001b[0m             \u001b[0;32mtry\u001b[0m\u001b[0;34m:\u001b[0m\u001b[0;34m\u001b[0m\u001b[0;34m\u001b[0m\u001b[0m\n\u001b[0;32m-> 1024\u001b[0;31m                 \u001b[0mstdout\u001b[0m\u001b[0;34m,\u001b[0m \u001b[0mstderr\u001b[0m \u001b[0;34m=\u001b[0m \u001b[0mself\u001b[0m\u001b[0;34m.\u001b[0m\u001b[0m_communicate\u001b[0m\u001b[0;34m(\u001b[0m\u001b[0minput\u001b[0m\u001b[0;34m,\u001b[0m \u001b[0mendtime\u001b[0m\u001b[0;34m,\u001b[0m \u001b[0mtimeout\u001b[0m\u001b[0;34m)\u001b[0m\u001b[0;34m\u001b[0m\u001b[0;34m\u001b[0m\u001b[0m\n\u001b[0m\u001b[1;32m   1025\u001b[0m             \u001b[0;32mexcept\u001b[0m \u001b[0mKeyboardInterrupt\u001b[0m\u001b[0;34m:\u001b[0m\u001b[0;34m\u001b[0m\u001b[0;34m\u001b[0m\u001b[0m\n\u001b[1;32m   1026\u001b[0m                 \u001b[0;31m# https://bugs.python.org/issue25942\u001b[0m\u001b[0;34m\u001b[0m\u001b[0;34m\u001b[0m\u001b[0;34m\u001b[0m\u001b[0m\n",
      "\u001b[0;32m/usr/lib/python3.8/subprocess.py\u001b[0m in \u001b[0;36m_communicate\u001b[0;34m(self, input, endtime, orig_timeout)\u001b[0m\n\u001b[1;32m   1864\u001b[0m                             'failed to raise TimeoutExpired.')\n\u001b[1;32m   1865\u001b[0m \u001b[0;34m\u001b[0m\u001b[0m\n\u001b[0;32m-> 1866\u001b[0;31m                     \u001b[0mready\u001b[0m \u001b[0;34m=\u001b[0m \u001b[0mselector\u001b[0m\u001b[0;34m.\u001b[0m\u001b[0mselect\u001b[0m\u001b[0;34m(\u001b[0m\u001b[0mtimeout\u001b[0m\u001b[0;34m)\u001b[0m\u001b[0;34m\u001b[0m\u001b[0;34m\u001b[0m\u001b[0m\n\u001b[0m\u001b[1;32m   1867\u001b[0m                     \u001b[0mself\u001b[0m\u001b[0;34m.\u001b[0m\u001b[0m_check_timeout\u001b[0m\u001b[0;34m(\u001b[0m\u001b[0mendtime\u001b[0m\u001b[0;34m,\u001b[0m \u001b[0morig_timeout\u001b[0m\u001b[0;34m,\u001b[0m \u001b[0mstdout\u001b[0m\u001b[0;34m,\u001b[0m \u001b[0mstderr\u001b[0m\u001b[0;34m)\u001b[0m\u001b[0;34m\u001b[0m\u001b[0;34m\u001b[0m\u001b[0m\n\u001b[1;32m   1868\u001b[0m \u001b[0;34m\u001b[0m\u001b[0m\n",
      "\u001b[0;32m/usr/lib/python3.8/selectors.py\u001b[0m in \u001b[0;36mselect\u001b[0;34m(self, timeout)\u001b[0m\n\u001b[1;32m    413\u001b[0m         \u001b[0mready\u001b[0m \u001b[0;34m=\u001b[0m \u001b[0;34m[\u001b[0m\u001b[0;34m]\u001b[0m\u001b[0;34m\u001b[0m\u001b[0;34m\u001b[0m\u001b[0m\n\u001b[1;32m    414\u001b[0m         \u001b[0;32mtry\u001b[0m\u001b[0;34m:\u001b[0m\u001b[0;34m\u001b[0m\u001b[0;34m\u001b[0m\u001b[0m\n\u001b[0;32m--> 415\u001b[0;31m             \u001b[0mfd_event_list\u001b[0m \u001b[0;34m=\u001b[0m \u001b[0mself\u001b[0m\u001b[0;34m.\u001b[0m\u001b[0m_selector\u001b[0m\u001b[0;34m.\u001b[0m\u001b[0mpoll\u001b[0m\u001b[0;34m(\u001b[0m\u001b[0mtimeout\u001b[0m\u001b[0;34m)\u001b[0m\u001b[0;34m\u001b[0m\u001b[0;34m\u001b[0m\u001b[0m\n\u001b[0m\u001b[1;32m    416\u001b[0m         \u001b[0;32mexcept\u001b[0m \u001b[0mInterruptedError\u001b[0m\u001b[0;34m:\u001b[0m\u001b[0;34m\u001b[0m\u001b[0;34m\u001b[0m\u001b[0m\n\u001b[1;32m    417\u001b[0m             \u001b[0;32mreturn\u001b[0m \u001b[0mready\u001b[0m\u001b[0;34m\u001b[0m\u001b[0;34m\u001b[0m\u001b[0m\n",
      "\u001b[0;31mKeyboardInterrupt\u001b[0m: "
     ]
    }
   ],
   "source": [
    "spell_check(doc)"
   ]
  },
  {
   "cell_type": "code",
   "execution_count": 13,
   "metadata": {},
   "outputs": [
    {
     "output_type": "error",
     "ename": "TypeError",
     "evalue": "sequence item 0: expected str instance, NoneType found",
     "traceback": [
      "\u001b[0;31m---------------------------------------------------------------------------\u001b[0m",
      "\u001b[0;31mTypeError\u001b[0m                                 Traceback (most recent call last)",
      "\u001b[0;32m<ipython-input-13-a186bf1b1eae>\u001b[0m in \u001b[0;36m<module>\u001b[0;34m\u001b[0m\n\u001b[0;32m----> 1\u001b[0;31m \u001b[0mpopen_version\u001b[0m \u001b[0;34m=\u001b[0m \u001b[0mtimeit\u001b[0m\u001b[0;34m(\u001b[0m\u001b[0;34m'spell_check(doc)'\u001b[0m\u001b[0;34m,\u001b[0m \u001b[0;34m'from __main__ import spell_check, doc'\u001b[0m\u001b[0;34m,\u001b[0m \u001b[0mnumber\u001b[0m\u001b[0;34m=\u001b[0m\u001b[0;36m1\u001b[0m\u001b[0;34m)\u001b[0m\u001b[0;34m\u001b[0m\u001b[0;34m\u001b[0m\u001b[0m\n\u001b[0m",
      "\u001b[0;32m/usr/lib/python3.8/timeit.py\u001b[0m in \u001b[0;36mtimeit\u001b[0;34m(stmt, setup, timer, number, globals)\u001b[0m\n\u001b[1;32m    231\u001b[0m            number=default_number, globals=None):\n\u001b[1;32m    232\u001b[0m     \u001b[0;34m\"\"\"Convenience function to create Timer object and call timeit method.\"\"\"\u001b[0m\u001b[0;34m\u001b[0m\u001b[0;34m\u001b[0m\u001b[0m\n\u001b[0;32m--> 233\u001b[0;31m     \u001b[0;32mreturn\u001b[0m \u001b[0mTimer\u001b[0m\u001b[0;34m(\u001b[0m\u001b[0mstmt\u001b[0m\u001b[0;34m,\u001b[0m \u001b[0msetup\u001b[0m\u001b[0;34m,\u001b[0m \u001b[0mtimer\u001b[0m\u001b[0;34m,\u001b[0m \u001b[0mglobals\u001b[0m\u001b[0;34m)\u001b[0m\u001b[0;34m.\u001b[0m\u001b[0mtimeit\u001b[0m\u001b[0;34m(\u001b[0m\u001b[0mnumber\u001b[0m\u001b[0;34m)\u001b[0m\u001b[0;34m\u001b[0m\u001b[0;34m\u001b[0m\u001b[0m\n\u001b[0m\u001b[1;32m    234\u001b[0m \u001b[0;34m\u001b[0m\u001b[0m\n\u001b[1;32m    235\u001b[0m def repeat(stmt=\"pass\", setup=\"pass\", timer=default_timer,\n",
      "\u001b[0;32m/usr/lib/python3.8/timeit.py\u001b[0m in \u001b[0;36mtimeit\u001b[0;34m(self, number)\u001b[0m\n\u001b[1;32m    175\u001b[0m         \u001b[0mgc\u001b[0m\u001b[0;34m.\u001b[0m\u001b[0mdisable\u001b[0m\u001b[0;34m(\u001b[0m\u001b[0;34m)\u001b[0m\u001b[0;34m\u001b[0m\u001b[0;34m\u001b[0m\u001b[0m\n\u001b[1;32m    176\u001b[0m         \u001b[0;32mtry\u001b[0m\u001b[0;34m:\u001b[0m\u001b[0;34m\u001b[0m\u001b[0;34m\u001b[0m\u001b[0m\n\u001b[0;32m--> 177\u001b[0;31m             \u001b[0mtiming\u001b[0m \u001b[0;34m=\u001b[0m \u001b[0mself\u001b[0m\u001b[0;34m.\u001b[0m\u001b[0minner\u001b[0m\u001b[0;34m(\u001b[0m\u001b[0mit\u001b[0m\u001b[0;34m,\u001b[0m \u001b[0mself\u001b[0m\u001b[0;34m.\u001b[0m\u001b[0mtimer\u001b[0m\u001b[0;34m)\u001b[0m\u001b[0;34m\u001b[0m\u001b[0;34m\u001b[0m\u001b[0m\n\u001b[0m\u001b[1;32m    178\u001b[0m         \u001b[0;32mfinally\u001b[0m\u001b[0;34m:\u001b[0m\u001b[0;34m\u001b[0m\u001b[0;34m\u001b[0m\u001b[0m\n\u001b[1;32m    179\u001b[0m             \u001b[0;32mif\u001b[0m \u001b[0mgcold\u001b[0m\u001b[0;34m:\u001b[0m\u001b[0;34m\u001b[0m\u001b[0;34m\u001b[0m\u001b[0m\n",
      "\u001b[0;32m/usr/lib/python3.8/timeit.py\u001b[0m in \u001b[0;36minner\u001b[0;34m(_it, _timer)\u001b[0m\n",
      "\u001b[0;32m<ipython-input-10-9a6462c630f4>\u001b[0m in \u001b[0;36mspell_check\u001b[0;34m(text)\u001b[0m\n\u001b[1;32m     55\u001b[0m         \u001b[0mout\u001b[0m \u001b[0;34m=\u001b[0m \u001b[0mformat_output\u001b[0m\u001b[0;34m(\u001b[0m\u001b[0mcorrected_toks\u001b[0m\u001b[0;34m)\u001b[0m\u001b[0;34m\u001b[0m\u001b[0;34m\u001b[0m\u001b[0m\n\u001b[1;32m     56\u001b[0m         \u001b[0mcorrected_lines\u001b[0m\u001b[0;34m.\u001b[0m\u001b[0mappend\u001b[0m\u001b[0;34m(\u001b[0m\u001b[0mout\u001b[0m\u001b[0;34m)\u001b[0m\u001b[0;34m\u001b[0m\u001b[0;34m\u001b[0m\u001b[0m\n\u001b[0;32m---> 57\u001b[0;31m     \u001b[0;32mreturn\u001b[0m \u001b[0;34m' '\u001b[0m\u001b[0;34m.\u001b[0m\u001b[0mjoin\u001b[0m\u001b[0;34m(\u001b[0m\u001b[0mcorrected_lines\u001b[0m\u001b[0;34m)\u001b[0m\u001b[0;34m\u001b[0m\u001b[0;34m\u001b[0m\u001b[0m\n\u001b[0m\u001b[1;32m     58\u001b[0m \u001b[0;34m\u001b[0m\u001b[0m\n\u001b[1;32m     59\u001b[0m \u001b[0;32mdef\u001b[0m \u001b[0mspell_check_alt\u001b[0m\u001b[0;34m(\u001b[0m\u001b[0mtext\u001b[0m\u001b[0;34m)\u001b[0m\u001b[0;34m:\u001b[0m\u001b[0;34m\u001b[0m\u001b[0;34m\u001b[0m\u001b[0m\n",
      "\u001b[0;31mTypeError\u001b[0m: sequence item 0: expected str instance, NoneType found"
     ]
    }
   ],
   "source": [
    "popen_version = timeit('spell_check(doc)', 'from __main__ import spell_check, doc', number=1)"
   ]
  },
  {
   "cell_type": "code",
   "execution_count": null,
   "metadata": {},
   "outputs": [],
   "source": [
    "pexpect_version = timeit('spell_check_alt(doc)', 'from __main__ import spell_check_alt, doc', number=1)"
   ]
  },
  {
   "cell_type": "code",
   "execution_count": null,
   "metadata": {},
   "outputs": [],
   "source": [
    "print('With popen:', popen_version)\n",
    "print('With pexpect:', pexpect_version)"
   ]
  }
 ]
}